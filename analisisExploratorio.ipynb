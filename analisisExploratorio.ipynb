{
 "cells": [
  {
   "cell_type": "code",
   "execution_count": 1,
   "metadata": {},
   "outputs": [],
   "source": [
    "import pandas as pd"
   ]
  },
  {
   "cell_type": "code",
   "execution_count": 5,
   "metadata": {},
   "outputs": [],
   "source": [
    "data = pd.read_csv('DEPARTAMENTOS.csv')"
   ]
  },
  {
   "cell_type": "code",
   "execution_count": 8,
   "metadata": {},
   "outputs": [
    {
     "name": "stdout",
     "output_type": "stream",
     "text": [
      "(9331, 17)\n"
     ]
    }
   ],
   "source": [
    "print(data.shape)"
   ]
  },
  {
   "cell_type": "code",
   "execution_count": 11,
   "metadata": {},
   "outputs": [
    {
     "name": "stdout",
     "output_type": "stream",
     "text": [
      "CODIGO\n",
      "DISTRITO\n",
      "DEPARTAMENTO\n",
      "MUNICIPIO\n",
      "ESTABLECIMIENTO\n",
      "DIRECCION\n",
      "TELEFONO\n",
      "SUPERVISOR\n",
      "DIRECTOR\n",
      "NIVEL\n",
      "SECTOR\n",
      "AREA\n",
      "STATUS\n",
      "MODALIDAD\n",
      "JORNADA\n",
      "PLAN\n",
      "DEPARTAMENTAL\n"
     ]
    }
   ],
   "source": [
    "print(\"\\n\".join(data.columns))"
   ]
  },
  {
   "cell_type": "code",
   "execution_count": 13,
   "metadata": {},
   "outputs": [
    {
     "name": "stdout",
     "output_type": "stream",
     "text": [
      "<class 'pandas.core.frame.DataFrame'>\n",
      "RangeIndex: 9331 entries, 0 to 9330\n",
      "Data columns (total 17 columns):\n",
      " #   Column           Non-Null Count  Dtype \n",
      "---  ------           --------------  ----- \n",
      " 0   CODIGO           9331 non-null   object\n",
      " 1   DISTRITO         9123 non-null   object\n",
      " 2   DEPARTAMENTO     9331 non-null   object\n",
      " 3   MUNICIPIO        9331 non-null   object\n",
      " 4   ESTABLECIMIENTO  9331 non-null   object\n",
      " 5   DIRECCION        9280 non-null   object\n",
      " 6   TELEFONO         8792 non-null   object\n",
      " 7   SUPERVISOR       9122 non-null   object\n",
      " 8   DIRECTOR         8434 non-null   object\n",
      " 9   NIVEL            9331 non-null   object\n",
      " 10  SECTOR           9331 non-null   object\n",
      " 11  AREA             9331 non-null   object\n",
      " 12  STATUS           9331 non-null   object\n",
      " 13  MODALIDAD        9331 non-null   object\n",
      " 14  JORNADA          9331 non-null   object\n",
      " 15  PLAN             9331 non-null   object\n",
      " 16  DEPARTAMENTAL    9331 non-null   object\n",
      "dtypes: object(17)\n",
      "memory usage: 1.2+ MB\n"
     ]
    },
    {
     "data": {
      "text/html": [
       "<div>\n",
       "<style scoped>\n",
       "    .dataframe tbody tr th:only-of-type {\n",
       "        vertical-align: middle;\n",
       "    }\n",
       "\n",
       "    .dataframe tbody tr th {\n",
       "        vertical-align: top;\n",
       "    }\n",
       "\n",
       "    .dataframe thead th {\n",
       "        text-align: right;\n",
       "    }\n",
       "</style>\n",
       "<table border=\"1\" class=\"dataframe\">\n",
       "  <thead>\n",
       "    <tr style=\"text-align: right;\">\n",
       "      <th></th>\n",
       "      <th>CODIGO</th>\n",
       "      <th>DISTRITO</th>\n",
       "      <th>DEPARTAMENTO</th>\n",
       "      <th>MUNICIPIO</th>\n",
       "      <th>ESTABLECIMIENTO</th>\n",
       "      <th>DIRECCION</th>\n",
       "      <th>TELEFONO</th>\n",
       "      <th>SUPERVISOR</th>\n",
       "      <th>DIRECTOR</th>\n",
       "      <th>NIVEL</th>\n",
       "      <th>SECTOR</th>\n",
       "      <th>AREA</th>\n",
       "      <th>STATUS</th>\n",
       "      <th>MODALIDAD</th>\n",
       "      <th>JORNADA</th>\n",
       "      <th>PLAN</th>\n",
       "      <th>DEPARTAMENTAL</th>\n",
       "    </tr>\n",
       "  </thead>\n",
       "  <tbody>\n",
       "    <tr>\n",
       "      <th>count</th>\n",
       "      <td>9331</td>\n",
       "      <td>9123</td>\n",
       "      <td>9331</td>\n",
       "      <td>9331</td>\n",
       "      <td>9331</td>\n",
       "      <td>9280</td>\n",
       "      <td>8792</td>\n",
       "      <td>9122</td>\n",
       "      <td>8434</td>\n",
       "      <td>9331</td>\n",
       "      <td>9331</td>\n",
       "      <td>9331</td>\n",
       "      <td>9331</td>\n",
       "      <td>9331</td>\n",
       "      <td>9331</td>\n",
       "      <td>9331</td>\n",
       "      <td>9331</td>\n",
       "    </tr>\n",
       "    <tr>\n",
       "      <th>unique</th>\n",
       "      <td>9331</td>\n",
       "      <td>690</td>\n",
       "      <td>23</td>\n",
       "      <td>349</td>\n",
       "      <td>5320</td>\n",
       "      <td>6001</td>\n",
       "      <td>5463</td>\n",
       "      <td>658</td>\n",
       "      <td>4677</td>\n",
       "      <td>1</td>\n",
       "      <td>4</td>\n",
       "      <td>3</td>\n",
       "      <td>4</td>\n",
       "      <td>2</td>\n",
       "      <td>6</td>\n",
       "      <td>13</td>\n",
       "      <td>26</td>\n",
       "    </tr>\n",
       "    <tr>\n",
       "      <th>top</th>\n",
       "      <td>19-01-0078-46</td>\n",
       "      <td>01-403</td>\n",
       "      <td>CIUDAD CAPITAL</td>\n",
       "      <td>ZONA 1</td>\n",
       "      <td>INSTITUTO NACIONAL DE EDUCACION DIVERSIFICADA</td>\n",
       "      <td>CABECERA MUNICIPAL</td>\n",
       "      <td>22067425</td>\n",
       "      <td>CARLOS HUMBERTO GONZALEZ DE LEON</td>\n",
       "      <td>---</td>\n",
       "      <td>DIVERSIFICADO</td>\n",
       "      <td>PRIVADO</td>\n",
       "      <td>URBANA</td>\n",
       "      <td>ABIERTA</td>\n",
       "      <td>MONOLINGUE</td>\n",
       "      <td>DOBLE</td>\n",
       "      <td>DIARIO(REGULAR)</td>\n",
       "      <td>GUATEMALA NORTE</td>\n",
       "    </tr>\n",
       "    <tr>\n",
       "      <th>freq</th>\n",
       "      <td>1</td>\n",
       "      <td>268</td>\n",
       "      <td>1564</td>\n",
       "      <td>633</td>\n",
       "      <td>333</td>\n",
       "      <td>271</td>\n",
       "      <td>21</td>\n",
       "      <td>333</td>\n",
       "      <td>83</td>\n",
       "      <td>9331</td>\n",
       "      <td>7956</td>\n",
       "      <td>7606</td>\n",
       "      <td>6545</td>\n",
       "      <td>9039</td>\n",
       "      <td>3037</td>\n",
       "      <td>5721</td>\n",
       "      <td>1050</td>\n",
       "    </tr>\n",
       "  </tbody>\n",
       "</table>\n",
       "</div>"
      ],
      "text/plain": [
       "               CODIGO DISTRITO    DEPARTAMENTO MUNICIPIO  \\\n",
       "count            9331     9123            9331      9331   \n",
       "unique           9331      690              23       349   \n",
       "top     19-01-0078-46   01-403  CIUDAD CAPITAL    ZONA 1   \n",
       "freq                1      268            1564       633   \n",
       "\n",
       "                                      ESTABLECIMIENTO           DIRECCION  \\\n",
       "count                                            9331                9280   \n",
       "unique                                           5320                6001   \n",
       "top     INSTITUTO NACIONAL DE EDUCACION DIVERSIFICADA  CABECERA MUNICIPAL   \n",
       "freq                                              333                 271   \n",
       "\n",
       "        TELEFONO                        SUPERVISOR DIRECTOR          NIVEL  \\\n",
       "count       8792                              9122     8434           9331   \n",
       "unique      5463                               658     4677              1   \n",
       "top     22067425  CARLOS HUMBERTO GONZALEZ DE LEON      ---  DIVERSIFICADO   \n",
       "freq          21                               333       83           9331   \n",
       "\n",
       "         SECTOR    AREA   STATUS   MODALIDAD JORNADA             PLAN  \\\n",
       "count      9331    9331     9331        9331    9331             9331   \n",
       "unique        4       3        4           2       6               13   \n",
       "top     PRIVADO  URBANA  ABIERTA  MONOLINGUE   DOBLE  DIARIO(REGULAR)   \n",
       "freq       7956    7606     6545        9039    3037             5721   \n",
       "\n",
       "          DEPARTAMENTAL  \n",
       "count              9331  \n",
       "unique               26  \n",
       "top     GUATEMALA NORTE  \n",
       "freq               1050  "
      ]
     },
     "execution_count": 13,
     "metadata": {},
     "output_type": "execute_result"
    }
   ],
   "source": [
    "data.info()\n",
    "data.describe(include='all')"
   ]
  }
 ],
 "metadata": {
  "kernelspec": {
   "display_name": "Python 3",
   "language": "python",
   "name": "python3"
  },
  "language_info": {
   "codemirror_mode": {
    "name": "ipython",
    "version": 3
   },
   "file_extension": ".py",
   "mimetype": "text/x-python",
   "name": "python",
   "nbconvert_exporter": "python",
   "pygments_lexer": "ipython3",
   "version": "3.11.9"
  }
 },
 "nbformat": 4,
 "nbformat_minor": 2
}
